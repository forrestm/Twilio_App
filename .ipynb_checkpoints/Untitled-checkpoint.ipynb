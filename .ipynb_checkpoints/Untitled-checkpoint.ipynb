{
 "cells": [
  {
   "cell_type": "code",
   "execution_count": 1,
   "metadata": {
    "collapsed": true
   },
   "outputs": [],
   "source": [
    "import yaml\n",
    "from pathlib import Path\n",
    "from datetime import date, timedelta, datetime"
   ]
  },
  {
   "cell_type": "code",
   "execution_count": 2,
   "metadata": {
    "collapsed": true
   },
   "outputs": [],
   "source": [
    "# Creates the current date object\n",
    "CURRENT_DATETIME = date.today()\n",
    "\n",
    "# Formats the date for filename\n",
    "CURRENT_DATE = CURRENT_DATETIME.strftime(\"%b-%d-%Y\")\n",
    "\n",
    "# Creates the final file with extension string\n",
    "CURRENT_DATE_YAML = CURRENT_DATE + \".yaml\"\n",
    "\n",
    "# Needs to be changed to correct path\n",
    "path = Path.home().joinpath('Documents', 'f-mo', 'Twilio_App', 'Weekly_Charges', f'{CURRENT_DATE_YAML}')\n",
    "\n",
    "inital_format = {(date.today() + timedelta(days=i)).strftime(\"%A-%m-%d\"):[] for i in range(0,7)}\n",
    "inital_format['Groceries'] = []"
   ]
  },
  {
   "cell_type": "code",
   "execution_count": 105,
   "metadata": {},
   "outputs": [
    {
     "data": {
      "text/plain": [
       "{'Friday-06-28': [],\n",
       " 'Groceries': [],\n",
       " 'Monday-06-24': [],\n",
       " 'Saturday-06-22': [],\n",
       " 'Sunday-06-23': [],\n",
       " 'Thursday-06-27': [],\n",
       " 'Tuesday-06-25': [],\n",
       " 'Wednesday-06-26': []}"
      ]
     },
     "execution_count": 105,
     "metadata": {},
     "output_type": "execute_result"
    }
   ],
   "source": [
    "inital_format"
   ]
  },
  {
   "cell_type": "code",
   "execution_count": 107,
   "metadata": {
    "collapsed": true
   },
   "outputs": [],
   "source": [
    "# Create the file\n",
    "with path.open(mode='w') as fid:\n",
    "    yaml.safe_dump(inital_format, fid, default_flow_style=False)"
   ]
  },
  {
   "cell_type": "code",
   "execution_count": 132,
   "metadata": {},
   "outputs": [],
   "source": [
    "# Read the file\n",
    "with path.open(mode='r') as fid:\n",
    "    charges = yaml.safe_load(fid)"
   ]
  },
  {
   "cell_type": "code",
   "execution_count": 125,
   "metadata": {},
   "outputs": [],
   "source": [
    "charges['Friday-06-28'].append(4)"
   ]
  },
  {
   "cell_type": "code",
   "execution_count": 133,
   "metadata": {},
   "outputs": [
    {
     "data": {
      "text/plain": [
       "{'Friday-06-28': [],\n",
       " 'Groceries': [],\n",
       " 'Monday-06-24': [],\n",
       " 'Saturday-06-22': ['57.48'],\n",
       " 'Sunday-06-23': [],\n",
       " 'Thursday-06-27': [],\n",
       " 'Tuesday-06-25': [],\n",
       " 'Wednesday-06-26': []}"
      ]
     },
     "execution_count": 133,
     "metadata": {},
     "output_type": "execute_result"
    }
   ],
   "source": [
    "charges"
   ]
  },
  {
   "cell_type": "code",
   "execution_count": 70,
   "metadata": {},
   "outputs": [
    {
     "data": {
      "text/plain": [
       "{'Friday-06-21': [],\n",
       " 'Monday-06-24': [],\n",
       " 'Saturday-06-22': [],\n",
       " 'Sunday-06-23': [],\n",
       " 'Thursday-06-27': [],\n",
       " 'Tuesday-06-25': [],\n",
       " 'Wednesday-06-26': []}"
      ]
     },
     "execution_count": 70,
     "metadata": {},
     "output_type": "execute_result"
    }
   ],
   "source": []
  },
  {
   "cell_type": "code",
   "execution_count": 73,
   "metadata": {},
   "outputs": [
    {
     "data": {
      "text/plain": [
       "True"
      ]
     },
     "execution_count": 73,
     "metadata": {},
     "output_type": "execute_result"
    }
   ],
   "source": [
    "'yes' in ['Yes', 'YES', 'Yeah', 'yeah', 'y', 'yes']"
   ]
  },
  {
   "cell_type": "code",
   "execution_count": 5,
   "metadata": {},
   "outputs": [],
   "source": [
    "body = \"Chase account 9094: A charge of $57.48 at HOME DEPT on 06/22/2019 is greater than your $0.01 limit in your Alerts settings.\""
   ]
  },
  {
   "cell_type": "code",
   "execution_count": 130,
   "metadata": {},
   "outputs": [],
   "source": [
    "import yaml\n",
    "from pathlib import Path\n",
    "from datetime import date, timedelta, datetime\n",
    "\n",
    "# Creates the current date object\n",
    "CURRENT_DATETIME = date.today()\n",
    "\n",
    "# Formats the date for filename\n",
    "CURRENT_DATE = CURRENT_DATETIME.strftime(\"%b-%d-%Y\")\n",
    "\n",
    "# Creates the final file with extension string\n",
    "CURRENT_DATE_YAML = CURRENT_DATE + \".yaml\"\n",
    "\n",
    "# Needs to be changed to correct path\n",
    "path = Path.home().joinpath('Documents', 'f-mo', 'Twilio_App', 'Weekly_Charges', f'{CURRENT_DATE_YAML}')\n",
    "\n",
    "def Received_Bank_text(body):\n",
    "    chase_list = body.split()\n",
    "    amount = chase_list[6][1:]\n",
    "    date = datetime.strptime(chase_list[-11], '%m/%d/%Y')\n",
    "    business = \" \".join(chase_list[8:-12])\n",
    "\n",
    "    charge_date = date.strftime(\"%A-%m-%d\")\n",
    "\n",
    "    with path.open(mode='r') as fid:\n",
    "        charges = yaml.safe_load(fid)\n",
    "\n",
    "    charges[charge_date].append(amount)\n",
    "\n",
    "    with path.open(mode='w') as fid:\n",
    "        yaml.safe_dump(charges, fid, default_flow_style=False)"
   ]
  },
  {
   "cell_type": "code",
   "execution_count": 135,
   "metadata": {},
   "outputs": [],
   "source": [
    "Received_Bank_text(body)"
   ]
  },
  {
   "cell_type": "code",
   "execution_count": 43,
   "metadata": {},
   "outputs": [],
   "source": [
    "class Budget(object):\n",
    "\n",
    "    FILEPATH = Path.home().joinpath('Documents',\n",
    "                                    'f-mo',\n",
    "                                    'Twilio_App',\n",
    "                                    'Weekly_Charges',\n",
    "                                    f'{CURRENT_DATE_YAML}')\n",
    "    def __init__(self, body):\n",
    "        self.body = body\n",
    "        self.chase_list = self.body.split()\n",
    "        self.amount = chase_list[6][1:]\n",
    "        self.date = datetime.strptime(chase_list[-11], '%m/%d/%Y')\n",
    "        self.business = \" \".join(chase_list[8:-12])\n",
    "        self.charge_date = date.strftime(\"%A-%m-%d\")\n",
    "\n",
    "    def write_to(self, charges):\n",
    "        self.charges = charges\n",
    "        with self.FILEPATH.open(mode='w') as fid:\n",
    "            yaml.safe_dump(charges, fid, default_flow_style=False)\n",
    "\n",
    "    def read_from(self):\n",
    "        with self.FILEPATH.open(mode='r') as fid:\n",
    "            charges = yaml.safe_load(fid)\n",
    "        return charges\n",
    "\n",
    "    def Received_Bank_text(self):\n",
    "        charges = self.read_from()\n",
    "        charges[self.charge_date].append(self.amount)\n",
    "        self.write_to(charges)\n",
    "    \n",
    "    def __str__(self):\n",
    "        return f'Spent ${self.amount} at {self.business} on {self.date}'\n"
   ]
  },
  {
   "cell_type": "code",
   "execution_count": 44,
   "metadata": {},
   "outputs": [
    {
     "ename": "NameError",
     "evalue": "name 'chase_list' is not defined",
     "output_type": "error",
     "traceback": [
      "\u001b[0;31m---------------------------------------------------------------------------\u001b[0m",
      "\u001b[0;31mNameError\u001b[0m                                 Traceback (most recent call last)",
      "\u001b[0;32m<ipython-input-44-8610794dbb9a>\u001b[0m in \u001b[0;36m<module>\u001b[0;34m()\u001b[0m\n\u001b[0;32m----> 1\u001b[0;31m \u001b[0mthing\u001b[0m \u001b[0;34m=\u001b[0m \u001b[0mBudget\u001b[0m\u001b[0;34m(\u001b[0m\u001b[0mbody\u001b[0m\u001b[0;34m)\u001b[0m\u001b[0;34m\u001b[0m\u001b[0;34m\u001b[0m\u001b[0m\n\u001b[0m",
      "\u001b[0;32m<ipython-input-43-42adfa61596d>\u001b[0m in \u001b[0;36m__init__\u001b[0;34m(self, body)\u001b[0m\n\u001b[1;32m      9\u001b[0m         \u001b[0mself\u001b[0m\u001b[0;34m.\u001b[0m\u001b[0mbody\u001b[0m \u001b[0;34m=\u001b[0m \u001b[0mbody\u001b[0m\u001b[0;34m\u001b[0m\u001b[0;34m\u001b[0m\u001b[0m\n\u001b[1;32m     10\u001b[0m         \u001b[0mself\u001b[0m\u001b[0;34m.\u001b[0m\u001b[0mchase_list\u001b[0m \u001b[0;34m=\u001b[0m \u001b[0mself\u001b[0m\u001b[0;34m.\u001b[0m\u001b[0mbody\u001b[0m\u001b[0;34m.\u001b[0m\u001b[0msplit\u001b[0m\u001b[0;34m(\u001b[0m\u001b[0;34m)\u001b[0m\u001b[0;34m\u001b[0m\u001b[0;34m\u001b[0m\u001b[0m\n\u001b[0;32m---> 11\u001b[0;31m         \u001b[0mself\u001b[0m\u001b[0;34m.\u001b[0m\u001b[0mamount\u001b[0m \u001b[0;34m=\u001b[0m \u001b[0mchase_list\u001b[0m\u001b[0;34m[\u001b[0m\u001b[0;36m6\u001b[0m\u001b[0;34m]\u001b[0m\u001b[0;34m[\u001b[0m\u001b[0;36m1\u001b[0m\u001b[0;34m:\u001b[0m\u001b[0;34m]\u001b[0m\u001b[0;34m\u001b[0m\u001b[0;34m\u001b[0m\u001b[0m\n\u001b[0m\u001b[1;32m     12\u001b[0m         \u001b[0mself\u001b[0m\u001b[0;34m.\u001b[0m\u001b[0mdate\u001b[0m \u001b[0;34m=\u001b[0m \u001b[0mdatetime\u001b[0m\u001b[0;34m.\u001b[0m\u001b[0mstrptime\u001b[0m\u001b[0;34m(\u001b[0m\u001b[0mchase_list\u001b[0m\u001b[0;34m[\u001b[0m\u001b[0;34m-\u001b[0m\u001b[0;36m11\u001b[0m\u001b[0;34m]\u001b[0m\u001b[0;34m,\u001b[0m \u001b[0;34m'%m/%d/%Y'\u001b[0m\u001b[0;34m)\u001b[0m\u001b[0;34m\u001b[0m\u001b[0;34m\u001b[0m\u001b[0m\n\u001b[1;32m     13\u001b[0m         \u001b[0mself\u001b[0m\u001b[0;34m.\u001b[0m\u001b[0mbusiness\u001b[0m \u001b[0;34m=\u001b[0m \u001b[0;34m\" \"\u001b[0m\u001b[0;34m.\u001b[0m\u001b[0mjoin\u001b[0m\u001b[0;34m(\u001b[0m\u001b[0mchase_list\u001b[0m\u001b[0;34m[\u001b[0m\u001b[0;36m8\u001b[0m\u001b[0;34m:\u001b[0m\u001b[0;34m-\u001b[0m\u001b[0;36m12\u001b[0m\u001b[0;34m]\u001b[0m\u001b[0;34m)\u001b[0m\u001b[0;34m\u001b[0m\u001b[0;34m\u001b[0m\u001b[0m\n",
      "\u001b[0;31mNameError\u001b[0m: name 'chase_list' is not defined"
     ]
    }
   ],
   "source": [
    "thing = Budget(body)"
   ]
  },
  {
   "cell_type": "code",
   "execution_count": 45,
   "metadata": {},
   "outputs": [
    {
     "ename": "NameError",
     "evalue": "name 'amount' is not defined",
     "output_type": "error",
     "traceback": [
      "\u001b[0;31m---------------------------------------------------------------------------\u001b[0m",
      "\u001b[0;31mNameError\u001b[0m                                 Traceback (most recent call last)",
      "\u001b[0;32m<ipython-input-45-f7cb85ecdb65>\u001b[0m in \u001b[0;36m<module>\u001b[0;34m()\u001b[0m\n\u001b[0;32m----> 1\u001b[0;31m \u001b[0mprint\u001b[0m\u001b[0;34m(\u001b[0m\u001b[0mthing\u001b[0m\u001b[0;34m)\u001b[0m\u001b[0;34m\u001b[0m\u001b[0;34m\u001b[0m\u001b[0m\n\u001b[0m",
      "\u001b[0;32m<ipython-input-40-8e66795c50bf>\u001b[0m in \u001b[0;36m__str__\u001b[0;34m(Budget)\u001b[0m\n\u001b[1;32m     30\u001b[0m \u001b[0;34m\u001b[0m\u001b[0m\n\u001b[1;32m     31\u001b[0m     \u001b[0;32mdef\u001b[0m \u001b[0m__str__\u001b[0m\u001b[0;34m(\u001b[0m\u001b[0mBudget\u001b[0m\u001b[0;34m)\u001b[0m\u001b[0;34m:\u001b[0m\u001b[0;34m\u001b[0m\u001b[0;34m\u001b[0m\u001b[0m\n\u001b[0;32m---> 32\u001b[0;31m         \u001b[0;32mreturn\u001b[0m \u001b[0;34mf'Spent ${amount} at {self.business} on {self.date}'\u001b[0m\u001b[0;34m\u001b[0m\u001b[0;34m\u001b[0m\u001b[0m\n\u001b[0m",
      "\u001b[0;31mNameError\u001b[0m: name 'amount' is not defined"
     ]
    }
   ],
   "source": [
    "print(thing)"
   ]
  },
  {
   "cell_type": "code",
   "execution_count": null,
   "metadata": {},
   "outputs": [],
   "source": []
  },
  {
   "cell_type": "code",
   "execution_count": null,
   "metadata": {
    "collapsed": true
   },
   "outputs": [],
   "source": []
  }
 ],
 "metadata": {
  "kernelspec": {
   "display_name": "Python 3",
   "language": "python",
   "name": "python3"
  },
  "language_info": {
   "codemirror_mode": {
    "name": "ipython",
    "version": 3
   },
   "file_extension": ".py",
   "mimetype": "text/x-python",
   "name": "python",
   "nbconvert_exporter": "python",
   "pygments_lexer": "ipython3",
   "version": "3.6.8"
  }
 },
 "nbformat": 4,
 "nbformat_minor": 2
}

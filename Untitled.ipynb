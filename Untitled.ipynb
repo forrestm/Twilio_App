{
 "cells": [
  {
   "cell_type": "code",
   "execution_count": 1,
   "metadata": {
    "collapsed": true
   },
   "outputs": [],
   "source": [
    "import yaml\n",
    "from pathlib import Path\n",
    "from datetime import date, timedelta, datetime"
   ]
  },
  {
   "cell_type": "code",
   "execution_count": 2,
   "metadata": {
    "collapsed": true
   },
   "outputs": [],
   "source": [
    "# Creates the current date object\n",
    "CURRENT_DATETIME = date.today()\n",
    "\n",
    "# Formats the date for filename\n",
    "CURRENT_DATE = CURRENT_DATETIME.strftime(\"%b-%d-%Y\")\n",
    "\n",
    "# Creates the final file with extension string\n",
    "CURRENT_DATE_YAML = CURRENT_DATE + \".yaml\"\n",
    "\n",
    "# Needs to be changed to correct path\n",
    "path = Path.home().joinpath('Documents', 'f-mo', 'Twilio_App', 'Weekly_Charges', f'{CURRENT_DATE_YAML}')\n",
    "\n",
    "inital_format = {(date.today() + timedelta(days=i)).strftime(\"%A-%m-%d\"):[] for i in range(0,7)}\n",
    "inital_format['Groceries'] = []"
   ]
  },
  {
   "cell_type": "code",
   "execution_count": 105,
   "metadata": {},
   "outputs": [
    {
     "data": {
      "text/plain": [
       "{'Friday-06-28': [],\n",
       " 'Groceries': [],\n",
       " 'Monday-06-24': [],\n",
       " 'Saturday-06-22': [],\n",
       " 'Sunday-06-23': [],\n",
       " 'Thursday-06-27': [],\n",
       " 'Tuesday-06-25': [],\n",
       " 'Wednesday-06-26': []}"
      ]
     },
     "execution_count": 105,
     "metadata": {},
     "output_type": "execute_result"
    }
   ],
   "source": [
    "inital_format"
   ]
  },
  {
   "cell_type": "code",
   "execution_count": 107,
   "metadata": {
    "collapsed": true
   },
   "outputs": [],
   "source": [
    "# Create the file\n",
    "with path.open(mode='w') as fid:\n",
    "    yaml.safe_dump(inital_format, fid, default_flow_style=False)"
   ]
  },
  {
   "cell_type": "code",
   "execution_count": 132,
   "metadata": {},
   "outputs": [],
   "source": [
    "# Read the file\n",
    "with path.open(mode='r') as fid:\n",
    "    charges = yaml.safe_load(fid)"
   ]
  },
  {
   "cell_type": "code",
   "execution_count": 125,
   "metadata": {},
   "outputs": [],
   "source": [
    "charges['Friday-06-28'].append(4)"
   ]
  },
  {
   "cell_type": "code",
   "execution_count": 133,
   "metadata": {},
   "outputs": [
    {
     "data": {
      "text/plain": [
       "{'Friday-06-28': [],\n",
       " 'Groceries': [],\n",
       " 'Monday-06-24': [],\n",
       " 'Saturday-06-22': ['57.48'],\n",
       " 'Sunday-06-23': [],\n",
       " 'Thursday-06-27': [],\n",
       " 'Tuesday-06-25': [],\n",
       " 'Wednesday-06-26': []}"
      ]
     },
     "execution_count": 133,
     "metadata": {},
     "output_type": "execute_result"
    }
   ],
   "source": [
    "charges"
   ]
  },
  {
   "cell_type": "code",
   "execution_count": 70,
   "metadata": {},
   "outputs": [
    {
     "data": {
      "text/plain": [
       "{'Friday-06-21': [],\n",
       " 'Monday-06-24': [],\n",
       " 'Saturday-06-22': [],\n",
       " 'Sunday-06-23': [],\n",
       " 'Thursday-06-27': [],\n",
       " 'Tuesday-06-25': [],\n",
       " 'Wednesday-06-26': []}"
      ]
     },
     "execution_count": 70,
     "metadata": {},
     "output_type": "execute_result"
    }
   ],
   "source": []
  },
  {
   "cell_type": "code",
   "execution_count": 73,
   "metadata": {},
   "outputs": [
    {
     "data": {
      "text/plain": [
       "True"
      ]
     },
     "execution_count": 73,
     "metadata": {},
     "output_type": "execute_result"
    }
   ],
   "source": [
    "'yes' in ['Yes', 'YES', 'Yeah', 'yeah', 'y', 'yes']"
   ]
  },
  {
   "cell_type": "code",
   "execution_count": 5,
   "metadata": {},
   "outputs": [],
   "source": [
    "body = \"Chase account 9094: A charge of $57.48 at HOME DEPT on 06/22/2019 is greater than your $0.01 limit in your Alerts settings.\""
   ]
  },
  {
   "cell_type": "code",
   "execution_count": 130,
   "metadata": {},
   "outputs": [],
   "source": [
    "import yaml\n",
    "from pathlib import Path\n",
    "from datetime import date, timedelta, datetime\n",
    "\n",
    "# Creates the current date object\n",
    "CURRENT_DATETIME = date.today()\n",
    "\n",
    "# Formats the date for filename\n",
    "CURRENT_DATE = CURRENT_DATETIME.strftime(\"%b-%d-%Y\")\n",
    "\n",
    "# Creates the final file with extension string\n",
    "CURRENT_DATE_YAML = CURRENT_DATE + \".yaml\"\n",
    "\n",
    "# Needs to be changed to correct path\n",
    "path = Path.home().joinpath('Documents', 'f-mo', 'Twilio_App', 'Weekly_Charges', f'{CURRENT_DATE_YAML}')\n",
    "\n",
    "def Received_Bank_text(body):\n",
    "    chase_list = body.split()\n",
    "    amount = chase_list[6][1:]\n",
    "    date = datetime.strptime(chase_list[-11], '%m/%d/%Y')\n",
    "    business = \" \".join(chase_list[8:-12])\n",
    "\n",
    "    charge_date = date.strftime(\"%A-%m-%d\")\n",
    "\n",
    "    with path.open(mode='r') as fid:\n",
    "        charges = yaml.safe_load(fid)\n",
    "\n",
    "    charges[charge_date].append(amount)\n",
    "\n",
    "    with path.open(mode='w') as fid:\n",
    "        yaml.safe_dump(charges, fid, default_flow_style=False)"
   ]
  },
  {
   "cell_type": "code",
   "execution_count": 135,
   "metadata": {},
   "outputs": [],
   "source": [
    "Received_Bank_text(body)"
   ]
  },
  {
   "cell_type": "code",
   "execution_count": 73,
   "metadata": {},
   "outputs": [],
   "source": [
    "class Budget(object):\n",
    "\n",
    "    FILEPATH = Path.home().joinpath('Documents',\n",
    "                                    'f-mo',\n",
    "                                    'Twilio_App',\n",
    "                                    'Weekly_Charges',\n",
    "                                    f'{CURRENT_DATE_YAML}')\n",
    "    def __init__(self, body):\n",
    "        self.body = body\n",
    "        self.chase_list = self.body.split()\n",
    "        self.amount = float(self.chase_list[6][1:])\n",
    "        self.date = datetime.strptime(self.chase_list[-11], '%m/%d/%Y')\n",
    "        self.business = \" \".join(self.chase_list[8:-12])\n",
    "        self.charge_date = self.date.strftime(\"%A-%m-%d\")\n",
    "\n",
    "    def write_to(self, charges):\n",
    "        self.charges = charges\n",
    "        with self.FILEPATH.open(mode='w') as fid:\n",
    "            yaml.safe_dump(charges, fid, default_flow_style=False)\n",
    "\n",
    "    def read_from(self):\n",
    "        with self.FILEPATH.open(mode='r') as fid:\n",
    "            charges = yaml.safe_load(fid)\n",
    "        return charges\n",
    "\n",
    "    def Received_Bank_text(self):\n",
    "        charges = self.read_from()\n",
    "        charges[self.charge_date].append(self.amount)\n",
    "        self.write_to(charges)\n",
    "    \n",
    "    def __str__(self):\n",
    "        return f'Spent ${self.amount} at {self.business} on {self.charge_date}'\n",
    "    \n",
    "    def __repr__(self):\n",
    "        return f'Spent ${self.amount} at {self.business} on {self.charge_date}'"
   ]
  },
  {
   "cell_type": "code",
   "execution_count": 74,
   "metadata": {},
   "outputs": [],
   "source": [
    "thing = Budget(body)"
   ]
  },
  {
   "cell_type": "code",
   "execution_count": 78,
   "metadata": {},
   "outputs": [],
   "source": [
    "thing.write_to(test)"
   ]
  },
  {
   "cell_type": "code",
   "execution_count": 77,
   "metadata": {},
   "outputs": [],
   "source": [
    "test = {'Friday-06-28': [],\n",
    " 'Groceries': [],\n",
    " 'Monday-06-24': [],\n",
    " 'Saturday-06-22': [57.48, 57.48, 57.48, 67.76],\n",
    " 'Sunday-06-23': [],\n",
    " 'Thursday-06-27': [],\n",
    " 'Tuesday-06-25': [],\n",
    " 'Wednesday-06-26': []}"
   ]
  },
  {
   "cell_type": "code",
   "execution_count": null,
   "metadata": {
    "collapsed": true
   },
   "outputs": [],
   "source": []
  }
 ],
 "metadata": {
  "kernelspec": {
   "display_name": "Python 3",
   "language": "python",
   "name": "python3"
  },
  "language_info": {
   "codemirror_mode": {
    "name": "ipython",
    "version": 3
   },
   "file_extension": ".py",
   "mimetype": "text/x-python",
   "name": "python",
   "nbconvert_exporter": "python",
   "pygments_lexer": "ipython3",
   "version": "3.6.8"
  }
 },
 "nbformat": 4,
 "nbformat_minor": 2
}
